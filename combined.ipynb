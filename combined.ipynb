{
 "cells": [
  {
   "cell_type": "code",
   "execution_count": null,
   "metadata": {},
   "outputs": [
    {
     "name": "stderr",
     "output_type": "stream",
     "text": [
      "c:\\Users\\Gaurav B V\\anaconda3\\envs\\myenv\\Lib\\site-packages\\tqdm\\auto.py:21: TqdmWarning: IProgress not found. Please update jupyter and ipywidgets. See https://ipywidgets.readthedocs.io/en/stable/user_install.html\n",
      "  from .autonotebook import tqdm as notebook_tqdm\n"
     ]
    }
   ],
   "source": [
    "from openai import OpenAI\n",
    "import google.generativeai as genai+\n",
    "import PIL.Image\n",
    "import os\n",
    "import time"
   ]
  },
  {
   "cell_type": "code",
   "execution_count": null,
   "metadata": {},
   "outputs": [],
   "source": [
    "import time\n",
    "def lol_prompts(text):\n",
    "    genai.configure(api_key='key')\n",
    "    if type(text)==float:\n",
    "        return \"\"\n",
    "    prompt = \"\"\"                Analyze the specified reference in the passage, determine if the citation is essential or non-essential to the passage's main contributions or findings, based on its role in the comparison between the reference and the source work and return weather it is Essential or Non Essential no explination.\n",
    "\n",
    "\n",
    "                Essential: Consider the citation essential if it is used to critically evaluate, compare performance, or highlight methodological differences directly related to the main contributions or findings of the passage. Essential comparisons should influence the core analysis, conclusions, or novelty of the work or provide a important information about a process being used.\n",
    "                \n",
    "                Non-Essential: Consider the citation non-essential if it merely acknowledges the existence of similar work without contributing to the critical evaluation or influencing the core analysis or methodology or help the user in understanding the concepts or provide any good insites for the papers aim.\n",
    "                \n",
    "    \"\"\"\n",
    "    prompt =prompt +\"\\n\"+text\n",
    "    model = genai.GenerativeModel(model_name=\"gemini-1.5-flash-8b\")\n",
    "    response = model.generate_content(prompt)\n",
    "    time.sleep(10)  \n",
    "    return response.text\n",
    "    # return prompt"
   ]
  },
  {
   "cell_type": "code",
   "execution_count": null,
   "metadata": {},
   "outputs": [],
   "source": [
    "def anamalous_check(text):\n",
    "    client = OpenAI(api_key='key')\n",
    "\n",
    "    completion = client.chat.completions.create(\n",
    "        model=\"gpt-4o\",\n",
    "        messages=[\n",
    "            {\"role\": \"system\", \"content\": \"You are a helpful assistant.\"},\n",
    "            {\n",
    "                \"role\": \"user\",\n",
    "                \"content\": \"\"\"\n",
    "                Analyze the specified reference in the passage to identify all instances where it is cited. For each instance, determine if the citation is essential or non-essential to the passage's main contributions or findings, based on its role in the comparison between the reference and the source work.\n",
    "\n",
    "                Essential: Consider the citation essential if it is used to critically evaluate, compare performance, or highlight methodological differences directly related to the main contributions or findings of the passage. Essential comparisons should influence the core analysis, conclusions, or novelty of the work or provide a important information about a process being used.\n",
    "                \n",
    "                Non-Essential: Consider the citation non-essential if it merely acknowledges the existence of similar work without contributing to the critical evaluation or influencing the core analysis or methodology or help the user in understanding the concepts or provide any good insites for the papers aim.\n",
    "                \n",
    "                \n",
    "Provide only a one worded answer 'essential' or 'non-essential' after aggragating for all the instances.\n",
    "\n",
    "                \"\"\"+text\n",
    "            }\n",
    "        ]\n",
    "    )\n",
    "    return completion.choices[0].message"
   ]
  },
  {
   "cell_type": "code",
   "execution_count": 5,
   "metadata": {},
   "outputs": [],
   "source": [
    "#5\n",
    "text=\"\"\"Reference [27]: Variable neighborhood search: methods and applications. \n",
    "\n",
    "\n",
    "Passage:\n",
    " Indeed MSSC is sometimes called the k-means problem. This heuristic alternately applies properties (ii) and (iii) above until a local optimum is reached. It has been shown by Hansen and Mladenovi Ìc [25] that while k-means usually gives good results for small number of clusters its performance deteriorates, sometimes drastically, when this number increases. Modifying k-means by adding a jump move of a centroid to an entity location gives a much better heuristic called j-means. Finally, combining j-means with a Variable Neighborhood Search (VNS) heuristic [26,27,47] gives a heuristic which often provides optimal solutions or best known ones. This empirical observation will be exploited in the algorithm presented below. Other recent heuristics for MSSC include the global k-means method of Likas et al. [41], analyzed in [28] and modified by Bagirov [6], Bagirov and Yearwoodâ€™s nonsmoothoptimizationalgorithm[7],smoothingoptimizationalgorithmsduetoTeboulle and Kogan [62] and Xavier et al. [66], Merzâ€™s iterated local search [44], Pachecoâ€™s scatter search [48], Pacheco and Valenciaâ€™s hybrids [49], Taillardâ€™s decomposition methods 123 An improved column generation algorithm 197 [61], Laszlo and Mukherjeeâ€™s genetic algorithms [37,38], Christouâ€™s restricted column generation and partitioning method [11], and the D.C. heuristic of An, Belghiti and Tao [4].\n",
    "\n",
    "\n",
    "\n",
    "Reference paper summary:\n",
    "Variable Neighborhood Search (VNS) is a metaheuristic framework for solving combinatorial and global optimization problems. This paper provides an updated survey of VNS, building upon a previous 2008 version. The paper highlights the need for heuristics to address the complexity of practical optimization problems, which are often too large to be solved exactly within reasonable time constraints. VNS, with its systematic change of neighborhood structures and local search, offers a valuable approach to finding approximate or sometimes optimal solutions.\n",
    "\n",
    "The paper outlines the key components of VNS, including:\n",
    "\n",
    "* **Basic VNS:** A combination of deterministic and stochastic changes of neighborhood, involving steps like shaking, local search, and neighborhood change.\n",
    "* **Variable Neighborhood Descent (VND):** A deterministic variation of VNS, where neighborhoods are changed systematically.\n",
    "* **Reduced VNS (RVNS):** A stochastic variation of VNS, where random points are selected from neighborhoods without descent.\n",
    "* **Skewed VNS (SVNS):** A method aimed at exploring valleys far from the incumbent solution by incorporating a distance function to guide search.\n",
    "* **Variable Neighborhood Decomposition Search (VNDS):** An extension of VNS that employs a two-level scheme based on problem decomposition.\n",
    "* **Primal-Dual VNS (PD-VNS):** An approach that aims to obtain both guaranteed bounds and exact solutions by incorporating dual relaxation.\n",
    "\n",
    "The paper also emphasizes the importance of:\n",
    "\n",
    "* **Representation of solutions:** Considering different representations to reduce the complexity of routines.\n",
    "* **Objective function calculation:** Establishing a clear procedure for calculating the objective function value.\n",
    "* **Shaking:** Developing a procedure for shaking solutions to diversify the search.\n",
    "* **Intensification:** Introducing intensification procedures to refine search within promising subsets of the neighborhood.\n",
    "* **Parameter settings:** Tuning the single central parameter, *kmax*, experimentally.\n",
    "\n",
    "The paper then delves into diverse applications of VNS across various fields, including:\n",
    "\n",
    "* **Industrial applications:** Oil industry problems like offshore pipeline network design, pooling problems, and rig scheduling.\n",
    "* **Cluster analysis:**  The J-Means heuristic combined with VNS proves particularly effective for solving minimum sum of square clustering problems.\n",
    "* **Communications and location problems:**  VNS has been applied to design problems in communications and various location problems.\n",
    "* **Graph problems involving trees:** VNS is used in post-optimization procedures for the prize-collecting Steiner tree problem.\n",
    "* **Bin packing and strip packing:**  VNS has been successfully applied to bin packing, strip packing, and container loading problems.\n",
    "* **Circle and sphere packing:**  VNS has been explored as a solution approach for these packing problems.\n",
    "* **Mixed integer programs:**  VNS can help in finding feasible or improved solutions for large and difficult mixed integer programs.\n",
    "* **Scheduling problems:** VNS has been applied to various scheduling problems like single machine total tardiness, unrelated parallel-machine scheduling, and permutation flow shop sequencing.\n",
    "* **Vehicle routing:** VNS has been utilized to solve vehicle routing problems, including online methods for the general vehicle routing problem.\n",
    "* **Bioinformatics:** VNS has been employed for problems in bioinformatics, including phylogeny, cDNA microarray gene expression data clustering, and finding the three-dimensional structure of molecules.\n",
    "* **Satisfiability problems:**  VNS is used to solve satisfiability problems.\n",
    "* **Continuous function optimization:** VNS is used in conjunction with other optimization methods like PSO.\n",
    "* **Subspace selection:**  VNS-like approaches have been developed for the subspace selection problem.\n",
    "* **Blood product delivery:** VNS has been applied to the delivery of blood products to hospitals.\n",
    "* **Optimization problems in manufacturing:** VNS has been applied to manufacturing optimization problems.\n",
    "* **Discovery science:**  VNS can be used not only for optimization but also for discovering scientific insights, particularly in graph theory.\n",
    "\n",
    "The paper concludes by highlighting the desirable properties of VNS, such as its robustness, efficiency, and adaptability to different problems. The growing popularity and ongoing development of VNS are emphasized, with several conferences and publications dedicated to this metaheuristic framework. The paper attributes the success of VNS to its adherence to Karl Popperâ€™s philosophy of science, focusing on testable conjectures and refutations.\n",
    "\n",
    "Source paper summary:\n",
    "\n",
    "\n",
    "This paper proposes a new column generation algorithm for minimum sum-of-squares clustering (MSSC), a method used to partition entities into clusters based on the sum of squared Euclidean distances from each entity to the centroid of its cluster. While MSSC can be solved in O(n^3) time, it is NP-hard for general values of k in the plane. Previous attempts at exact algorithms have been limited by the auxiliary problem, particularly the unconstrained quadratic 0-1 optimization problem. \n",
    "\n",
    "The authors introduce a geometric approach to solve the auxiliary problem, drawing inspiration from the Weber problem with limited distances. This approach involves analyzing the intersection points of discs in the plane and solving subproblems for each region defined by the intersections. The new algorithm achieves a time complexity of O(n^3) and can solve instances with over 2,300 entities, significantly surpassing previous capabilities.\n",
    "\n",
    "The paper then generalizes this approach to higher dimensional spaces, using a similar concept of intersecting hyperspheres. The algorithm explores the intersection graph of hyperspheres to efficiently solve the auxiliary problem, employing an implicit branch-and-bound method.\n",
    "\n",
    "Computational experiments on real-world datasets demonstrate the effectiveness of the improved algorithm. Notably, it outperforms previous methods, including the repetitive branch-and-bound algorithm and the best branch-and-cut SDP-based algorithm, in terms of solving larger instances more efficiently. The algorithm also exhibits scalability with increasing values of k.\n",
    "\n",
    "The study concludes that the geometric approach offers a more efficient way to solve the auxiliary problem in the column generation algorithm for MSSC. This advancement allows for exact solutions of significantly larger instances, pushing the boundaries of solving this NP-hard problem.\"\"\""
   ]
  },
  {
   "cell_type": "code",
   "execution_count": 6,
   "metadata": {},
   "outputs": [],
   "source": [
    "#10\n",
    "text=\"\"\"Reference [1]: The price of stability for network design with fair cost allocation.\n",
    "\n",
    "\n",
    "\n",
    "Passage:\n",
    " For the lâˆž norm and a natural subclass of equilibria, which we call subpath-optimal, the price of anarchy in singlecommodity networks is no worse than that in the l1 case. The bicriteria bound of [23] also holds for this subclass of equilibria. Again, these upper bounds are the best possible. We next compare and contrast these contributions with other results in the literature. Our positive result for subpathoptimal equilibria is reminiscent of â€œprice of stabilityâ€ analyses that concern the best equilibrium of a game [1, 2, 10], but it is much stronger. The best equilibrium of a game typically cannot be reached without centralized intervention, 2 NETWORKS-2012-DOI 10.1002/net but subpath-optimal equilibria are the natural outcome of decentralized optimization from a networking perspective: if an equilibrium is computed by a distributed shortest path routing protocol, it is automatically subpath-optimal (see Section 3.2). The separation that we prove between the worst-case price of anarchy in single-commodity and multicommodity networks with the lp norm with p > 1 stands in contrast to the case of the l1 norm, where there is never such a separation [10,20]. Indeed, all previously known proof techniques for bounding the price of anarchy of selfish routing (for the l1 norm) neither refer to the number of commodities of a network nor to any combinatorial structure whatsoever (as made precise in [22]). These proof techniques for the l1 case therefore appear incapable of extending to the lp case with p > 1-our results require a new and fundamentally combinatorial approach.\n",
    "\n",
    "Reference paper summary:\n",
    "This paper investigates the strategic implications of cost-sharing mechanisms in network design, particularly focusing on the Shapley value as a cost-sharing scheme. It explores the Nash equilibrium properties and the price of stability in fair connection games, where users strategically choose paths to minimize their costs.\n",
    "\n",
    "The paper establishes that in every instance of the network design problem with Shapley cost-sharing, there exists a Nash equilibrium whose total cost is at most H(k) times the optimal cost, where H(k) is the harmonic sum. It also proves that best-response dynamics, starting from the optimal solution, always lead to a good Nash equilibrium.\n",
    "\n",
    "The study examines the price of anarchy, which measures the worst-case performance of a Nash equilibrium compared to the global optimum. It demonstrates that while the price of anarchy can grow as large as k in the worst case, the price of stability can be bounded by H(k).\n",
    "\n",
    "The paper further explores the impact of congestion on edge costs and analyzes the case where delays increase with congestion. It introduces a potential function method to demonstrate that for reasonable delay functions, the price of stability remains bounded.\n",
    "\n",
    "The study investigates the convergence time of best-response dynamics and constructs an example where the convergence time can be exponential in the number of players. It also explores the implications of adding capacities to edges and the challenges posed by weighted games.\n",
    "\n",
    "The paper highlights the significant implications of cost-sharing mechanisms in network design, particularly the Shapley value. It provides insights into the strategic behavior of users, the price of stability, and the convergence properties of best-response dynamics. The findings contribute to a deeper understanding of the interplay between decentralized decision-making and network performance.\n",
    "\n",
    "\n",
    "Source paper summary:\n",
    "This research delves into the concept of \"price of anarchy\" in network routing, focusing on the scenario where the cost of a path is determined by its most congested edge (the bottleneck) using the â„“âˆž norm aggregation function. This contrasts with traditional approaches where path costs are calculated as the sum of edge costs (â„“1 norm).\n",
    "\n",
    "The authors demonstrate that for a natural cost-minimization objective, the price of anarchy with endogenous traffic rates (where demand fluctuates based on congestion) is no larger than in networks with fixed demand. This upper bound holds for the â„“âˆž path cost when considering equilibria generated by distributed shortest path routing protocols.\n",
    "\n",
    "The paper then explores the price of anarchy in multicommodity networks, where multiple commodities compete for network resources. It establishes a separation between the worst-case price of anarchy in single-commodity and multicommodity networks with the â„“p norm (where p>1), unlike the â„“1 norm where such separation doesn't exist.\n",
    "\n",
    "The study examines a broader objective that minimizes the travel cost of participating players and the lost benefit of non-participating players, analogous to \"prize-collecting\" objectives in approximation algorithm design. The authors introduce the Pigou Bound, which minimizes the combined cost over all feasible flow paths that are not routed at a specific instance.\n",
    "\n",
    "Furthermore, the paper presents examples highlighting the unbounded nature of the price of anarchy in multicommodity networks with nonlinear aggregation functions, even with linear cost functions and inelastic traffic. It also demonstrates that the bicriteria bound, which states that a Nash flow is no more expensive than an optimal flow at double the traffic rates, doesn't hold for the â„“âˆž path norm.\n",
    "\n",
    "The research then investigates subpath-optimal equilibria, a natural outcome of decentralized optimization from a networking perspective. It identifies a \"minimal cut\" with respect to a subpath-optimal Nash flow and argues that proof techniques must leverage both the subpath assumption and the combinatorial structure of single-commodity networks.\n",
    "\n",
    "The paper extends its analysis to the â„“p path norms, proving a bicriteria bound for the â„“p norm and demonstrating that the worst-possible inefficiency arising from the tragedy of the commons is no greater than that arising from routing inefficiency. Finally, it concludes by showing that all bounds on the price of anarchy extend to networks with elastic traffic, highlighting the practical implications of this research for network optimization and performance analysis.\"\"\""
   ]
  },
  {
   "cell_type": "code",
   "execution_count": 17,
   "metadata": {},
   "outputs": [],
   "source": [
    "#atri\n",
    "text=\"\"\"Reference[6]:Iterative machine and deep learning approach for aviation delay prediction\n",
    "\n",
    "Passage:\n",
    "Major causes of delay [5]\n",
    "airline, weather and origin and destination airports. Studies\n",
    "have found that airlines exhibit a trend of delays, meaning\n",
    "aircrafts belonging to some airlines are found to be almost\n",
    "always on time whereas aircrafts belonging to some other\n",
    "airlines routinely get delayed. In this study, an approach using gated recurrent neural\n",
    "networks is explored for the purpose of predicting delays\n",
    "encountered in the aviation industry. LSTM and Bi-LSTM are\n",
    "utilised to predict the number of minutes by which the flight\n",
    "departure is delayed. This is in contrast to previous efforts\n",
    "[6] where deep nets and neural nets were used to predict the\n",
    "delay/no-delay status of flights. The rest of the paper is organized as follows: Section II\n",
    "sheds light on the literature surveyed for this paper. Section\n",
    "III highlights a few recurrent neural network models and\n",
    "their architectures. Then Section IV details about the proposed\n",
    "approach followed by Section V discussing the experimental\n",
    "setup and results. Finally, Section VI summarizes the paper\n",
    "and throws light on future scope of the current work. II.\n",
    "On conducting initial experiments on single flight datasets with\n",
    "regard to San Francisco International airport for a year using\n",
    "SVM, they obtained poor results with a minimum error rate\n",
    "of 14.4%. Thus, the authors abandoned SVM classifier and\n",
    "adopted Naive Bayes which is relatively quick and allowed\n",
    "them to train their vast dataset containing about 135 million\n",
    "rows. In [12], the authors conducted a rigorous literature survey\n",
    "of flight delay prediction using various models, focusing\n",
    "specifically on using machine learning models for prediction. In [13], the authors tried their hand at predicting flight delays\n",
    "using the concept of real time Internet of Things(IOT) and\n",
    "the corresponding data. Collecting data from a variety of\n",
    "resources, such as flight data and weather data , they have\n",
    "provided a new perspective in analyzing flight data by adding\n",
    "new data sources to be considered. Attempts have also been made to utilize Deep Belief Networks and Artificial Neural Networks in order to predict flight\n",
    "delays as seen in [6]. Efforts have also been made to utilise\n",
    "Recurrent Neural Networks(RNN) and particularly Long shortterm memory units(LSTM) in predicting flight delays as seen\n",
    "in [14]. Authors have attempted to analyse changes in delays\n",
    "on a daily basis and utilise that as the base for predicting the\n",
    "delay of a given flight on a particular day. In this paper, gated recurrent neural networks namely,\n",
    "LSTM and Bi-LSTM are explored for the purpose of predicting delays in terms of the minutes by which the flight\n",
    "departure is delayed. III. GATED RECURRENT NEURAL NETWORKS\n",
    "A.\n",
    "Recurrent Neural Networks\n",
    "Recurrent Neural Networks(RNN) are a type of artificial\n",
    "neural networks which model the behavioural patterns of\n",
    "dynamic systems.\n",
    "Reference paper summary:\n",
    "This research proposes a machine learning approach for predicting flight arrival delays using neural networks and deep learning concepts. The model achieved an accuracy of 77% using deep nets and 89% using neural nets, demonstrating its ability to predict flight delays with reasonable accuracy. \n",
    "\n",
    "Previous research by Sruti et al. emphasized the importance of classification followed by prediction. They categorized delay types, considered reactionary delays due to prior flights, and explored various models such as decision trees, neural networks, and regression. Logistic regression emerged as the most effective model based on misclassification rates. Random forests performed better for delayed flights than non-delayed flights, while SVM showed significant improvements in performance with different timings. \n",
    "\n",
    "The proposed approach involves data acquisition, preprocessing using stratified sampling, feature extraction, and model training using neural networks and deep belief nets. Key attributes contributing to flight delays were identified, including day of the week, arrival and departure times, elapsed time, total delay time, and distance. The model's accuracy ranged from 71.34% to 90.95% based on airport-specific data. \n",
    "\n",
    "Experiments were conducted on RStudio platform using Intel Core i7 machines with 4GB RAM. The accuracy varied with the number of hidden layers and neurons per layer. Neural networks with one hidden layer and three neurons achieved 92% accuracy, while deep nets with two hidden layers and four neurons each achieved 77% accuracy. Different activation functions were explored for both ANN and DBN.\n",
    "\n",
    "Future work aims to compare and contrast deep architectures to determine the most effective algorithm. The goal is to develop a customer-focused application that uses attributes known to passengers to provide more accurate and timely delay predictions, potentially reducing passenger stress and inconvenience.\n",
    "\n",
    "Source paper summary:\n",
    "This study explores the use of gated recurrent neural networks (GRNNs), specifically Long Short-Term Memory (LSTM) and Bidirectional LSTM (Bi-LSTM), for predicting flight delays in the aviation industry. The research utilizes a dataset containing 32 attributes, including flight details, airport information, and delay types, obtained from Kaggle. The dataset is preprocessed and divided into training and testing sets (80/20 split). The study employs the hyperbolic tangent activation function, stochastic gradient descent optimizer, and Root Mean Square Error (RMSE) as an accuracy metric.\n",
    "\n",
    "The results indicate that the Bi-LSTM model achieved an RMSE of 32.91 minutes, demonstrating its ability to predict delays with a reasonable level of accuracy. While the study focused on GRNNs, the authors acknowledge that exploring other machine learning models could potentially yield better accuracy. \n",
    "\n",
    "The research highlights the importance of predicting delays in real-time to inform passengers and enhance their experience. The authors envision using these models to proactively inform passengers about potential delays, thereby improving passenger satisfaction and minimizing waiting times at airports. \"\"\""
   ]
  },
  {
   "cell_type": "code",
   "execution_count": 14,
   "metadata": {},
   "outputs": [],
   "source": [
    "def rating(text):\n",
    "    avg=0\n",
    "    r1=lol_prompts(text)\n",
    "    r2=anamalous_check(text)\n",
    "    if r2.content==\"Essential\":\n",
    "        avg+=0.575\n",
    "    if r1==\"Essential\\n\":\n",
    "        avg+=0.4242\n",
    "    return avg\n",
    "    "
   ]
  },
  {
   "cell_type": "code",
   "execution_count": 22,
   "metadata": {},
   "outputs": [
    {
     "data": {
      "text/plain": [
       "'Essential'"
      ]
     },
     "execution_count": 22,
     "metadata": {},
     "output_type": "execute_result"
    }
   ],
   "source": [
    "r=anamalous_check(text)\n",
    "r.content"
   ]
  },
  {
   "cell_type": "code",
   "execution_count": 23,
   "metadata": {},
   "outputs": [],
   "source": [
    "r1=lol_prompts(text)"
   ]
  },
  {
   "cell_type": "code",
   "execution_count": 24,
   "metadata": {},
   "outputs": [
    {
     "data": {
      "text/plain": [
       "'Essential\\n'"
      ]
     },
     "execution_count": 24,
     "metadata": {},
     "output_type": "execute_result"
    }
   ],
   "source": [
    "r1"
   ]
  },
  {
   "cell_type": "code",
   "execution_count": 25,
   "metadata": {},
   "outputs": [],
   "source": [
    "r1=rating(text)"
   ]
  },
  {
   "cell_type": "code",
   "execution_count": 26,
   "metadata": {},
   "outputs": [
    {
     "data": {
      "text/plain": [
       "0.9992"
      ]
     },
     "execution_count": 26,
     "metadata": {},
     "output_type": "execute_result"
    }
   ],
   "source": [
    "r1"
   ]
  },
  {
   "cell_type": "code",
   "execution_count": 13,
   "metadata": {},
   "outputs": [
    {
     "name": "stdout",
     "output_type": "stream",
     "text": [
      "ok\n"
     ]
    }
   ],
   "source": [
    "if r1==\"Essential\\n\":\n",
    "    print(\"ok\")"
   ]
  },
  {
   "cell_type": "code",
   "execution_count": 25,
   "metadata": {},
   "outputs": [
    {
     "name": "stdout",
     "output_type": "stream",
     "text": [
      "yea\n"
     ]
    }
   ],
   "source": [
    "if r == \"Non-essential\\n\":\n",
    "    print(\"yea\")"
   ]
  },
  {
   "cell_type": "code",
   "execution_count": null,
   "metadata": {},
   "outputs": [],
   "source": []
  }
 ],
 "metadata": {
  "kernelspec": {
   "display_name": "myenv",
   "language": "python",
   "name": "python3"
  },
  "language_info": {
   "codemirror_mode": {
    "name": "ipython",
    "version": 3
   },
   "file_extension": ".py",
   "mimetype": "text/x-python",
   "name": "python",
   "nbconvert_exporter": "python",
   "pygments_lexer": "ipython3",
   "version": "3.12.4"
  }
 },
 "nbformat": 4,
 "nbformat_minor": 2
}
